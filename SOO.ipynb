{
  "nbformat": 4,
  "nbformat_minor": 0,
  "metadata": {
    "colab": {
      "provenance": [],
      "include_colab_link": true
    },
    "kernelspec": {
      "name": "python3",
      "display_name": "Python 3"
    },
    "language_info": {
      "name": "python"
    }
  },
  "cells": [
    {
      "cell_type": "markdown",
      "metadata": {
        "id": "view-in-github",
        "colab_type": "text"
      },
      "source": [
        "<a href=\"https://colab.research.google.com/github/Vedang-Gupta/BanditsOptimisticOptimization/blob/main/SOO.ipynb\" target=\"_parent\"><img src=\"https://colab.research.google.com/assets/colab-badge.svg\" alt=\"Open In Colab\"/></a>"
      ]
    },
    {
      "cell_type": "code",
      "execution_count": 1,
      "metadata": {
        "id": "FuI_WtU6_Cfn"
      },
      "outputs": [],
      "source": [
        "import numpy as np\n",
        "hmax = 2\n",
        "maxeval = 10\n",
        "k = 3\n",
        "n_dims = 2\n",
        "l_lim = 2\n",
        "h_lim = 2"
      ]
    },
    {
      "cell_type": "code",
      "source": [
        "def f(x):\n",
        "  return (x[0] - 1)**2 + (x[1] - 1)**2\n",
        "\n",
        "\n",
        "class Node:\n",
        "  def __init__(self, key):\n",
        "    self.key = key\n",
        "    self.child = []\n",
        "  # Utility function to create a new tree node\n",
        "def new_node(key):\n",
        "    temp = Node(key)\n",
        "    return temp  \n",
        "# Function that will return the depth\n",
        "# of the tree\n",
        "def depth_of_tree(ptr):\n",
        "    # Base case\n",
        "    if ptr is None:\n",
        "        return 0\n",
        "\n",
        "    # Check for all children and find\n",
        "    # the maximum depth\n",
        "    maxdepth = 0\n",
        "    for child in ptr.child:\n",
        "        maxdepth = max(maxdepth, depth_of_tree(child))\n",
        "    return maxdepth + 1\n",
        "\n",
        "def get_nodes_at_level(root: Node, level: int):\n",
        "    if not root:\n",
        "        return []\n",
        "\n",
        "    level_nodes = []\n",
        "    queue = [(root, 0)]\n",
        "\n",
        "    while queue:\n",
        "        node, node_level = queue.pop(0)\n",
        "        if node_level == level:\n",
        "            level_nodes.append(node)\n",
        "        elif node_level > level:\n",
        "            break\n",
        "\n",
        "        for child in node.child:\n",
        "            queue.append((child, node_level + 1))\n",
        "\n",
        "    return level_nodes\n",
        "\n",
        "def add_node(root, level, key):\n",
        "    if level == 1:\n",
        "        new_node = Node(key)\n",
        "        root.child.append(new_node)\n",
        "        return new_node\n",
        "    elif level > 1:\n",
        "        for child in root.child:\n",
        "            new_node = add_node(child, level-1, key)\n",
        "            if new_node is not None:\n",
        "                return new_node\n",
        "\n",
        "    return None\n",
        "def print_tree(root):\n",
        "    if not root:\n",
        "        return\n",
        "\n",
        "    queue = [root]\n",
        "    while queue:\n",
        "        node = queue.pop(0)\n",
        "        print(node.key, end=\" \")\n",
        "        for child in node.child:\n",
        "            queue.append(child)\n",
        "\n",
        "t = 1\n",
        "cells = new_node([[-l_lim, h_lim]]*n_dims)\n",
        "# my_child = cells.child\n",
        "# print(get_nodes_at_level(cells, 0)[0].key)\n",
        "while t <= maxeval:\n",
        "  B = []\n",
        "  v_min = np.inf\n",
        "  for h in range(min(depth_of_tree(cells) , hmax)):\n",
        "    fmin = np.inf\n",
        "    level_h_leaves = get_nodes_at_level(cells, h)\n",
        "    x_star = [0]*n_dims\n",
        "    for leaves in level_h_leaves:\n",
        "      domain = leaves.key\n",
        "      # print(domain)\n",
        "      x = np.array(domain)\n",
        "      x = np.average(domain, axis = 1)\n",
        "      fx = f(x)\n",
        "      # print(fx)\n",
        "      if fx < fmin:\n",
        "        x_star = x\n",
        "        domain_star = domain\n",
        "    if f(x_star) <= v_min:\n",
        "      B.append(domain_star)\n",
        "      vmin = f(x_star)\n",
        "    split_cell = []\n",
        "    for i in range(len(B)):\n",
        "      x = B[i]\n",
        "      dx = (x[0][1] - x[0][0])/k\n",
        "      dy = (x[1][1] - x[1][0])/k\n",
        "      split = [[]]*k\n",
        "      for j in range(0,k):\n",
        "        split[j] = [[x[0][0] + dx*j, x[0][0] + dx*(j+1)], [x[1][0] + dy*j, x[1][0] + dy*(j+1)]]\n",
        "        # print(split[j])\n",
        "        add_node(cells, h + 1, split[j])\n",
        "  # print_tree(cells)\n",
        "  t = t + 1\n",
        "\n",
        "print(x_star)\n",
        "\n",
        "\n",
        "\n"
      ],
      "metadata": {
        "colab": {
          "base_uri": "https://localhost:8080/"
        },
        "id": "CgQhHMAOoMEO",
        "outputId": "dcc7493c-fa66-423a-e428-b4ede9817b21"
      },
      "execution_count": 2,
      "outputs": [
        {
          "output_type": "stream",
          "name": "stdout",
          "text": [
            "[1.33333333 1.33333333]\n"
          ]
        }
      ]
    },
    {
      "cell_type": "code",
      "source": [
        "x_star = [[0]*2]*n_dims\n",
        "B = [[[-2, 2], [-2, 2]]]\n",
        "B*3"
      ],
      "metadata": {
        "colab": {
          "base_uri": "https://localhost:8080/"
        },
        "id": "xXEZROzYAaiQ",
        "outputId": "8c8cfefc-4840-4e1e-8e59-3e55d3d039c6"
      },
      "execution_count": 3,
      "outputs": [
        {
          "output_type": "execute_result",
          "data": {
            "text/plain": [
              "[[[-2, 2], [-2, 2]], [[-2, 2], [-2, 2]], [[-2, 2], [-2, 2]]]"
            ]
          },
          "metadata": {},
          "execution_count": 3
        }
      ]
    },
    {
      "cell_type": "code",
      "source": [],
      "metadata": {
        "id": "ug8WUAqG_htY"
      },
      "execution_count": null,
      "outputs": []
    }
  ]
}